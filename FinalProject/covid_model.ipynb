{
 "cells": [
  {
   "cell_type": "code",
   "execution_count": 8,
   "metadata": {},
   "outputs": [],
   "source": [
    "import pandas as pd\n",
    "import numpy as np\n",
    "import matplotlib.pyplot as plt\n",
    "import keras\n",
    "from keras.models import Sequential\n",
    "from keras.layers import Dense, LSTM, Dropout, Conv1D, MaxPooling1D, Flatten\n",
    "from keras.utils import np_utils\n",
    "from keras.metrics import mean_squared_error\n",
    "from sklearn.model_selection import train_test_split\n",
    "from sklearn.preprocessing import MinMaxScaler, MaxAbsScaler, normalize"
   ]
  },
  {
   "cell_type": "code",
   "execution_count": 9,
   "metadata": {},
   "outputs": [],
   "source": [
    "# Set filenames here\n",
    "cf = 'data/covid_cases.csv' # Case time series\n",
    "df = 'data/covid_deaths.csv' # Death time series"
   ]
  },
  {
   "cell_type": "code",
   "execution_count": 12,
   "metadata": {},
   "outputs": [],
   "source": [
    "# Load and shape data\n",
    "casesdf = pd.read_csv(cf).iloc[:,11:].apply(sum).values\n",
    "deathdf = pd.read_csv(df).iloc[:,12:].apply(sum).values\n",
    "casesdf = casesdf.reshape(len(casesdf), 1)\n",
    "deathdf = deathdf.reshape(len(deathdf), 1)"
   ]
  },
  {
   "cell_type": "code",
   "execution_count": 34,
   "metadata": {},
   "outputs": [],
   "source": [
    "dataset = casesdf\n",
    "# dataset = deathdf"
   ]
  },
  {
   "cell_type": "code",
   "execution_count": 35,
   "metadata": {},
   "outputs": [],
   "source": [
    "scaler = MinMaxScaler(feature_range=(0,1))\n",
    "dataset = scaler.fit_transform(dataset)"
   ]
  },
  {
   "cell_type": "code",
   "execution_count": 63,
   "metadata": {},
   "outputs": [],
   "source": [
    "# Getters\n",
    "def get_dataset(dataset, n_steps=1, split=0.75, shuff=False):\n",
    "    #print(dataset.shape)\n",
    "    X, y = [], []\n",
    "    for i in range(len(dataset) - n_steps - 1):\n",
    "        a = dataset[i:(i+n_steps)]\n",
    "        X.append(a)\n",
    "        y.append(dataset[i + n_steps][0])\n",
    "    X, y = np.array(X), np.array(y)\n",
    "    return train_test_split(X, y, test_size=(1-split), shuffle=shuff)\n",
    "\n",
    "def get_model(n_steps, n_features):\n",
    "    model = Sequential()\n",
    "    model.add(Conv1D(filters=64, kernel_size=2, \n",
    "                     activation='relu', \n",
    "                     input_shape=(n_steps, n_features)))\n",
    "    model.add(MaxPooling1D(pool_size=2))\n",
    "    model.add(Flatten())\n",
    "    model.add(Dense(50, activation='relu'))\n",
    "    model.add(Dense(1))\n",
    "    model.compile(optimizer='adam', loss='mse', metrics=['mae', 'mse'])\n",
    "    return model\n",
    "\n",
    "def evaluate_model(history):\n",
    "    plt.plot(history.history['loss'])\n",
    "    plt.plot(history.history['val_loss'])\n",
    "    plt.title('Model loss')\n",
    "    plt.ylabel('Loss')\n",
    "    plt.xlabel('Epoch')\n",
    "    plt.legend(['Train', 'Test'], loc='upper left')\n",
    "    plt.show()\n",
    "\n",
    "def plot_test(y, y_hat):\n",
    "    plt.plot(y, 'b')\n",
    "    plt.plot(y_hat, 'r')\n",
    "    plt.show()"
   ]
  },
  {
   "cell_type": "code",
   "execution_count": 37,
   "metadata": {},
   "outputs": [],
   "source": [
    "# Settings\n",
    "n_steps = 5\n",
    "n_features = 1\n",
    "tr_split = 0.8"
   ]
  },
  {
   "cell_type": "code",
   "execution_count": 47,
   "metadata": {},
   "outputs": [],
   "source": [
    "# Get it\n",
    "X_train, X_test, Y_train, Y_test = get_dataset(dataset, n_steps, tr_split, False)\n",
    "m = get_model(n_steps, n_features)"
   ]
  },
  {
   "cell_type": "code",
   "execution_count": 48,
   "metadata": {},
   "outputs": [],
   "source": [
    "# Fit it\n",
    "history = m.fit(X_train, Y_train,\n",
    "               epochs=1000,\n",
    "               validation_split=0.1,\n",
    "               verbose=0,\n",
    "               shuffle=False)"
   ]
  },
  {
   "cell_type": "code",
   "execution_count": 49,
   "metadata": {},
   "outputs": [
    {
     "name": "stdout",
     "output_type": "stream",
     "text": [
      "Loss: 0.000 | MAE: 0.014 | MSE: 0.000\n"
     ]
    }
   ],
   "source": [
    "loss, mae, mse = m.evaluate(X_test, Y_test, verbose=2)\n",
    "print(f'Loss: {loss:.3f} | MAE: {mae:.3f} | MSE: {mse:.3f}')"
   ]
  },
  {
   "cell_type": "code",
   "execution_count": 64,
   "metadata": {},
   "outputs": [
    {
     "data": {
      "image/png": "[encoded data removed]",
      "text/plain": [
       "<Figure size 432x288 with 1 Axes>"
      ]
     },
     "metadata": {
      "needs_background": "light"
     },
     "output_type": "display_data"
    }
   ],
   "source": [
    "preds = scaler.inverse_transform(m.predict(X_test))\n",
    "ys    = scaler.inverse_transform(Y_test.reshape(len(Y_test), 1))\n",
    "plot_test(ys, preds)"
   ]
  },
  {
   "cell_type": "code",
   "execution_count": null,
   "metadata": {},
   "outputs": [],
   "source": []
  }
 ],
 "metadata": {
  "kernelspec": {
   "display_name": "Python 3",
   "language": "python",
   "name": "python3"
  },
  "language_info": {
   "codemirror_mode": {
    "name": "ipython",
    "version": 3
   },
   "file_extension": ".py",
   "mimetype": "text/x-python",
   "name": "python",
   "nbconvert_exporter": "python",
   "pygments_lexer": "ipython3",
   "version": "3.7.4"
  }
 },
 "nbformat": 4,
 "nbformat_minor": 2
}
